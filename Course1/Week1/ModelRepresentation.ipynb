{
  "nbformat": 4,
  "nbformat_minor": 0,
  "metadata": {
    "colab": {
      "name": "ModelRepresentation.ipynb",
      "provenance": [],
      "authorship_tag": "ABX9TyMJVCeunTkmfM4+2LumAW+n",
      "include_colab_link": true
    },
    "kernelspec": {
      "name": "python3",
      "display_name": "Python 3"
    },
    "language_info": {
      "name": "python"
    }
  },
  "cells": [
    {
      "cell_type": "markdown",
      "metadata": {
        "id": "view-in-github",
        "colab_type": "text"
      },
      "source": [
        "<a href=\"https://colab.research.google.com/github/alfazick/deep_ai_training/blob/main/Course1/Week1/ModelRepresentation.ipynb\" target=\"_parent\"><img src=\"https://colab.research.google.com/assets/colab-badge.svg\" alt=\"Open In Colab\"/></a>"
      ]
    },
    {
      "cell_type": "code",
      "execution_count": 1,
      "metadata": {
        "id": "np5w6U-1WQ3s"
      },
      "outputs": [],
      "source": [
        "import numpy as np\n",
        "import matplotlib.pyplot as plt\n"
      ]
    },
    {
      "cell_type": "code",
      "source": [
        "plt.style.use('seaborn')"
      ],
      "metadata": {
        "id": "Ij3ZAmQwZd6H"
      },
      "execution_count": 6,
      "outputs": []
    },
    {
      "cell_type": "code",
      "source": [
        "# create 2 data points examples\n",
        "x_train = np.array([1.0, 2.0])\n",
        "y_train = np.array([300.0,500.0])\n",
        "print(f\"x_train = {x_train}\")\n",
        "print(f\"y_train = {y_train}\")"
      ],
      "metadata": {
        "colab": {
          "base_uri": "https://localhost:8080/"
        },
        "outputId": "073704ea-3ddb-4133-d010-1aa6f52af2d1",
        "id": "4Mg1uG6sZ2Ew"
      },
      "execution_count": 7,
      "outputs": [
        {
          "output_type": "stream",
          "name": "stdout",
          "text": [
            "x_train = [1. 2.]\n",
            "y_train = [300. 500.]\n"
          ]
        }
      ]
    },
    {
      "cell_type": "code",
      "source": [
        "#m is the number of training examples\n",
        "m = x_train.shape[0]\n",
        "m = len(x_train)\n",
        "print(f\"Number of training examples is: {m}\")"
      ],
      "metadata": {
        "colab": {
          "base_uri": "https://localhost:8080/"
        },
        "id": "VtsYpcI8ZfkM",
        "outputId": "f503435d-da4d-45e8-c3cc-a83e43eebc24"
      },
      "execution_count": 8,
      "outputs": [
        {
          "output_type": "stream",
          "name": "stdout",
          "text": [
            "Number of training examples is: 2\n"
          ]
        }
      ]
    },
    {
      "cell_type": "code",
      "source": [
        "for i in range(m):\n",
        "    x_i = x_train[i]\n",
        "    y_i = y_train[i]\n",
        "    print(f\"(x^({i}), y^({i})) = ({x_i}, {y_i})\")"
      ],
      "metadata": {
        "colab": {
          "base_uri": "https://localhost:8080/"
        },
        "id": "jybYjunIZxSb",
        "outputId": "9b4b2acd-bad4-4cc5-c983-d00e515a58ef"
      },
      "execution_count": 10,
      "outputs": [
        {
          "output_type": "stream",
          "name": "stdout",
          "text": [
            "(x^(0), y^(0)) = (1.0, 300.0)\n",
            "(x^(1), y^(1)) = (2.0, 500.0)\n"
          ]
        }
      ]
    },
    {
      "cell_type": "code",
      "source": [
        "# plotting the data\n",
        "\n",
        "# the function arguments 'marker' and 'c' show the points as red crosses\n",
        "\n",
        "#Plot the data points\n",
        "plt.scatter(x_train,y_train, marker = 'x', c = 'r')\n",
        "# Set the title\n",
        "plt.title(\"Housing prices\")\n",
        "# Set the y-axis label\n",
        "plt.ylabel(\"Price (in 1000s of dollars)\")\n",
        "# Set the x-axis label\n",
        "plt.xlabel(\"Size (1000 sqft)\")\n",
        "# Show \n",
        "plt.show()"
      ],
      "metadata": {
        "colab": {
          "base_uri": "https://localhost:8080/",
          "height": 376
        },
        "id": "OvrGsr7cbJoN",
        "outputId": "5741e30e-9828-4330-ef7e-849cc7cb5d74"
      },
      "execution_count": 11,
      "outputs": [
        {
          "output_type": "display_data",
          "data": {
            "text/plain": [
              "<Figure size 576x396 with 1 Axes>"
            ],
            "image/png": "[encoded data removed]"
          },
          "metadata": {}
        }
      ]
    },
    {
      "cell_type": "code",
      "source": [
        "# create a simple straight line\n",
        "w = 100\n",
        "b = 100\n",
        "\n",
        "print(f\"w: {w}\")\n",
        "print(f\"b: {b}\")"
      ],
      "metadata": {
        "colab": {
          "base_uri": "https://localhost:8080/"
        },
        "id": "WkVhHloJgXW7",
        "outputId": "087f78ff-b4f2-48a5-eea7-7794bc3c828c"
      },
      "execution_count": 12,
      "outputs": [
        {
          "output_type": "stream",
          "name": "stdout",
          "text": [
            "w: 100\n",
            "b: 100\n"
          ]
        }
      ]
    },
    {
      "cell_type": "code",
      "source": [
        "def compute_model_output(x,w,b):\n",
        "    \"\"\"\n",
        "    Computes the prediction of a linear model\n",
        "    Args:\n",
        "        x(ndarray (m,)) : Data, m examples\n",
        "        w,b (scalar)    : model parameters\n",
        "    Returns\n",
        "        y (ndarray (m,)): target values\n",
        "    \"\"\"\n",
        "    m = x.shape[0]\n",
        "    f_wb = np.zeros(m)\n",
        "    for i in range(m):\n",
        "        f_wb[i] = w * x[i] + b\n",
        "    return f_wb\n",
        "\n"
      ],
      "metadata": {
        "id": "5V7e2R0TgigX"
      },
      "execution_count": 13,
      "outputs": []
    },
    {
      "cell_type": "code",
      "source": [
        "# call the function and plot the output\n",
        "tmp_f_wb = compute_model_output(x_train, 200, 100 )"
      ],
      "metadata": {
        "id": "cFxRtBGxheo6"
      },
      "execution_count": 42,
      "outputs": []
    },
    {
      "cell_type": "code",
      "source": [
        "# Plot our model prediction\n",
        "plt.plot(x_train, tmp_f_wb, c = 'b', label = \"Our Prediction\")\n",
        "\n",
        "# plot the data points\n",
        "plt.scatter(x_train, y_train, marker = 'x', c = 'r', label = \"Actual Values\")\n",
        "plt.title(\"Housing prices\")\n",
        "# Set the y-axis label\n",
        "plt.ylabel(\"Price (in 1000s of dollars)\")\n",
        "# Set the x-axis label\n",
        "plt.xlabel(\"Size (1000 sqft)\")\n",
        "# Show \n",
        "plt.show()"
      ],
      "metadata": {
        "colab": {
          "base_uri": "https://localhost:8080/",
          "height": 376
        },
        "id": "TP4Kv1LUhjI3",
        "outputId": "0f3ff743-1112-4429-f5f7-96ee9e65a29a"
      },
      "execution_count": 43,
      "outputs": [
        {
          "output_type": "display_data",
          "data": {
            "text/plain": [
              "<Figure size 576x396 with 1 Axes>"
            ],
            "image/png": "[encoded data removed]"
          },
          "metadata": {}
        }
      ]
    },
    {
      "cell_type": "code",
      "source": [
        "# Prediction\n",
        "w = 200                         \n",
        "b = 100    \n",
        "x_i = 1.2\n",
        "cost_1200sqft = w * x_i + b    \n",
        "\n",
        "print(f\"${cost_1200sqft:.0f} thousand dollars\")"
      ],
      "metadata": {
        "colab": {
          "base_uri": "https://localhost:8080/"
        },
        "outputId": "7a638ecd-30f0-463f-9aed-e6f5fad88130",
        "id": "A1vHbl-kiYbM"
      },
      "execution_count": 44,
      "outputs": [
        {
          "output_type": "stream",
          "name": "stdout",
          "text": [
            "$340 thousand dollars\n"
          ]
        }
      ]
    },
    {
      "cell_type": "code",
      "source": [
        ""
      ],
      "metadata": {
        "id": "ZrQlvcfeic5e"
      },
      "execution_count": null,
      "outputs": []
    }
  ]
}